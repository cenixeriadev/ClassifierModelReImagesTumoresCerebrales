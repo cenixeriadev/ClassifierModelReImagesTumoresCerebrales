{
 "cells": [
  {
   "cell_type": "code",
   "execution_count": 6,
   "id": "fbdd858b",
   "metadata": {},
   "outputs": [
    {
     "name": "stdout",
     "output_type": "stream",
     "text": [
      "Ruta entrenamiento: c:\\Users\\Lenovo\\Desktop\\ClassifierModelReImagesTumoresCerebrales\\dataset\\Training\n",
      "Ruta prueba: c:\\Users\\Lenovo\\Desktop\\ClassifierModelReImagesTumoresCerebrales\\dataset\\Testing\n",
      "¿Existen?: True True\n"
     ]
    }
   ],
   "source": [
    "import os\n",
    "import tensorflow as tf\n",
    "from tensorflow.keras.preprocessing.image import ImageDataGenerator\n",
    "from tensorflow.keras import layers, models\n",
    "import matplotlib.pyplot as plt\n",
    "from sklearn.metrics import classification_report, confusion_matrix\n",
    "import numpy as np\n",
    "\n",
    "# ✅ Rutas dinámicas correctas para cualquier sistema operativo\n",
    "base_path = os.path.join(os.getcwd(), \"dataset\")\n",
    "train_dir = os.path.join(base_path, \"Training\")\n",
    "test_dir = os.path.join(base_path, \"Testing\")\n",
    "\n",
    "print(\"Ruta entrenamiento:\", train_dir)\n",
    "print(\"Ruta prueba:\", test_dir)\n",
    "print(\"¿Existen?:\", os.path.exists(train_dir), os.path.exists(test_dir))\n"
   ]
  },
  {
   "cell_type": "code",
   "execution_count": 2,
   "id": "afc89591",
   "metadata": {},
   "outputs": [
    {
     "name": "stdout",
     "output_type": "stream",
     "text": [
      "Found 5712 images belonging to 4 classes.\n",
      "Found 1311 images belonging to 4 classes.\n"
     ]
    }
   ],
   "source": [
    "# Generadores de datos\n",
    "train_datagen = ImageDataGenerator(rescale=1./255)\n",
    "test_datagen = ImageDataGenerator(rescale=1./255)\n",
    "\n",
    "train_gen = train_datagen.flow_from_directory(\n",
    "    train_dir,\n",
    "    target_size=(128, 128),\n",
    "    batch_size=32,\n",
    "    class_mode='categorical'\n",
    ")\n",
    "\n",
    "test_gen = test_datagen.flow_from_directory(\n",
    "    test_dir,\n",
    "    target_size=(128, 128),\n",
    "    batch_size=32,\n",
    "    class_mode='categorical',\n",
    "    shuffle=False\n",
    ")\n"
   ]
  },
  {
   "cell_type": "code",
   "execution_count": 3,
   "id": "37ce3f7c",
   "metadata": {},
   "outputs": [
    {
     "name": "stderr",
     "output_type": "stream",
     "text": [
      "c:\\Users\\Lenovo\\Desktop\\ClassifierModelReImagesTumoresCerebrales\\.venv\\Lib\\site-packages\\keras\\src\\layers\\convolutional\\base_conv.py:113: UserWarning: Do not pass an `input_shape`/`input_dim` argument to a layer. When using Sequential models, prefer using an `Input(shape)` object as the first layer in the model instead.\n",
      "  super().__init__(activity_regularizer=activity_regularizer, **kwargs)\n"
     ]
    }
   ],
   "source": [
    "# Modelo CNN\n",
    "model = models.Sequential([\n",
    "    layers.Conv2D(32, (3,3), activation='relu', input_shape=(128,128,3)),\n",
    "    layers.MaxPooling2D(),\n",
    "    layers.Conv2D(64, (3,3), activation='relu'),\n",
    "    layers.MaxPooling2D(),\n",
    "    layers.Conv2D(128, (3,3), activation='relu'),\n",
    "    layers.MaxPooling2D(),\n",
    "    layers.Flatten(),\n",
    "    layers.Dense(128, activation='relu'),\n",
    "    layers.Dropout(0.5),\n",
    "    layers.Dense(4, activation='softmax')\n",
    "])\n"
   ]
  },
  {
   "cell_type": "code",
   "execution_count": 4,
   "id": "df9ff8b9",
   "metadata": {},
   "outputs": [
    {
     "name": "stderr",
     "output_type": "stream",
     "text": [
      "c:\\Users\\Lenovo\\Desktop\\ClassifierModelReImagesTumoresCerebrales\\.venv\\Lib\\site-packages\\keras\\src\\trainers\\data_adapters\\py_dataset_adapter.py:121: UserWarning: Your `PyDataset` class should call `super().__init__(**kwargs)` in its constructor. `**kwargs` can include `workers`, `use_multiprocessing`, `max_queue_size`. Do not pass these arguments to `fit()`, as they will be ignored.\n",
      "  self._warn_if_super_not_called()\n"
     ]
    },
    {
     "name": "stdout",
     "output_type": "stream",
     "text": [
      "Epoch 1/10\n",
      "\u001b[1m179/179\u001b[0m \u001b[32m━━━━━━━━━━━━━━━━━━━━\u001b[0m\u001b[37m\u001b[0m \u001b[1m275s\u001b[0m 2s/step - accuracy: 0.5610 - loss: 0.9948 - val_accuracy: 0.7818 - val_loss: 0.5067\n",
      "Epoch 2/10\n",
      "\u001b[1m179/179\u001b[0m \u001b[32m━━━━━━━━━━━━━━━━━━━━\u001b[0m\u001b[37m\u001b[0m \u001b[1m207s\u001b[0m 862ms/step - accuracy: 0.8286 - loss: 0.4686 - val_accuracy: 0.8322 - val_loss: 0.3877\n",
      "Epoch 3/10\n",
      "\u001b[1m179/179\u001b[0m \u001b[32m━━━━━━━━━━━━━━━━━━━━\u001b[0m\u001b[37m\u001b[0m \u001b[1m171s\u001b[0m 687ms/step - accuracy: 0.8730 - loss: 0.3491 - val_accuracy: 0.8780 - val_loss: 0.2959\n",
      "Epoch 4/10\n",
      "\u001b[1m179/179\u001b[0m \u001b[32m━━━━━━━━━━━━━━━━━━━━\u001b[0m\u001b[37m\u001b[0m \u001b[1m115s\u001b[0m 641ms/step - accuracy: 0.8933 - loss: 0.2726 - val_accuracy: 0.8642 - val_loss: 0.3087\n",
      "Epoch 5/10\n",
      "\u001b[1m179/179\u001b[0m \u001b[32m━━━━━━━━━━━━━━━━━━━━\u001b[0m\u001b[37m\u001b[0m \u001b[1m124s\u001b[0m 695ms/step - accuracy: 0.9296 - loss: 0.2019 - val_accuracy: 0.9161 - val_loss: 0.2090\n",
      "Epoch 6/10\n",
      "\u001b[1m179/179\u001b[0m \u001b[32m━━━━━━━━━━━━━━━━━━━━\u001b[0m\u001b[37m\u001b[0m \u001b[1m109s\u001b[0m 611ms/step - accuracy: 0.9430 - loss: 0.1540 - val_accuracy: 0.9314 - val_loss: 0.1739\n",
      "Epoch 7/10\n",
      "\u001b[1m179/179\u001b[0m \u001b[32m━━━━━━━━━━━━━━━━━━━━\u001b[0m\u001b[37m\u001b[0m \u001b[1m128s\u001b[0m 710ms/step - accuracy: 0.9506 - loss: 0.1303 - val_accuracy: 0.9527 - val_loss: 0.1534\n",
      "Epoch 8/10\n",
      "\u001b[1m179/179\u001b[0m \u001b[32m━━━━━━━━━━━━━━━━━━━━\u001b[0m\u001b[37m\u001b[0m \u001b[1m112s\u001b[0m 624ms/step - accuracy: 0.9602 - loss: 0.1081 - val_accuracy: 0.9619 - val_loss: 0.1191\n",
      "Epoch 9/10\n",
      "\u001b[1m179/179\u001b[0m \u001b[32m━━━━━━━━━━━━━━━━━━━━\u001b[0m\u001b[37m\u001b[0m \u001b[1m115s\u001b[0m 640ms/step - accuracy: 0.9710 - loss: 0.0879 - val_accuracy: 0.9565 - val_loss: 0.1182\n",
      "Epoch 10/10\n",
      "\u001b[1m179/179\u001b[0m \u001b[32m━━━━━━━━━━━━━━━━━━━━\u001b[0m\u001b[37m\u001b[0m \u001b[1m137s\u001b[0m 764ms/step - accuracy: 0.9785 - loss: 0.0593 - val_accuracy: 0.9626 - val_loss: 0.1276\n"
     ]
    },
    {
     "name": "stderr",
     "output_type": "stream",
     "text": [
      "WARNING:absl:You are saving your model as an HDF5 file via `model.save()` or `keras.saving.save_model(model)`. This file format is considered legacy. We recommend using instead the native Keras format, e.g. `model.save('my_model.keras')` or `keras.saving.save_model(model, 'my_model.keras')`. \n"
     ]
    }
   ],
   "source": [
    "# Compilar y entrenar\n",
    "model.compile(optimizer='adam', loss='categorical_crossentropy', metrics=['accuracy'])\n",
    "history = model.fit(train_gen, validation_data=test_gen, epochs=10)\n",
    "\n",
    "# Guardar modelo\n",
    "model.save(\"brain_tumor_cnn.h5\")\n"
   ]
  },
  {
   "cell_type": "code",
   "execution_count": 5,
   "id": "de18595e",
   "metadata": {},
   "outputs": [
    {
     "name": "stdout",
     "output_type": "stream",
     "text": [
      "\u001b[1m41/41\u001b[0m \u001b[32m━━━━━━━━━━━━━━━━━━━━\u001b[0m\u001b[37m\u001b[0m \u001b[1m7s\u001b[0m 163ms/step\n",
      "              precision    recall  f1-score   support\n",
      "\n",
      "      glioma       0.96      0.95      0.95       300\n",
      "  meningioma       0.94      0.90      0.92       306\n",
      "     notumor       0.97      1.00      0.99       405\n",
      "   pituitary       0.97      1.00      0.98       300\n",
      "\n",
      "    accuracy                           0.96      1311\n",
      "   macro avg       0.96      0.96      0.96      1311\n",
      "weighted avg       0.96      0.96      0.96      1311\n",
      "\n",
      "[[284  15   0   1]\n",
      " [ 12 274  12   8]\n",
      " [  0   0 405   0]\n",
      " [  0   1   0 299]]\n"
     ]
    }
   ],
   "source": [
    "plt.figure(figsize=(12,5))\n",
    "plt.subplot(1,2,1)\n",
    "plt.plot(history.history['accuracy'], label='Train Accuracy')\n",
    "plt.plot(history.history['val_accuracy'], label='Test Accuracy')\n",
    "plt.title(\"Precisión\"), plt.legend()\n",
    "\n",
    "plt.subplot(1,2,2)\n",
    "plt.plot(history.history['loss'], label='Train Loss')\n",
    "plt.plot(history.history['val_loss'], label='Test Loss')\n",
    "plt.title(\"Pérdida\"), plt.legend()\n",
    "plt.tight_layout()\n",
    "plt.savefig(\"training_result.png\")\n",
    "plt.close()\n",
    "\n",
    "# Evaluación\n",
    "test_gen.reset()\n",
    "predictions = model.predict(test_gen)\n",
    "predicted_classes = np.argmax(predictions, axis=1)\n",
    "true_classes = test_gen.classes\n",
    "class_labels = list(test_gen.class_indices.keys())\n",
    "\n",
    "report = classification_report(true_classes, predicted_classes, target_names=class_labels)\n",
    "matrix = confusion_matrix(true_classes, predicted_classes)\n",
    "\n",
    "print(report)\n",
    "print(matrix)\n"
   ]
  }
 ],
 "metadata": {
  "kernelspec": {
   "display_name": ".venv",
   "language": "python",
   "name": "python3"
  },
  "language_info": {
   "codemirror_mode": {
    "name": "ipython",
    "version": 3
   },
   "file_extension": ".py",
   "mimetype": "text/x-python",
   "name": "python",
   "nbconvert_exporter": "python",
   "pygments_lexer": "ipython3",
   "version": "3.12.9"
  }
 },
 "nbformat": 4,
 "nbformat_minor": 5
}
